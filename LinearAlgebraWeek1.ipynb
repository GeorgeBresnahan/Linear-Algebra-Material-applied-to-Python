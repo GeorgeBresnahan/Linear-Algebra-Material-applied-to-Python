{
 "cells": [
  {
   "cell_type": "markdown",
   "metadata": {},
   "source": [
    "## Gaussian Elimination\n",
    "\n",
    "This is a technique for solving systems of equations.\n",
    "\n",
    "Lets consider:\n",
    "$$2x + y - 2z = 1$$\n",
    "$$3x + 2y +2z = 7$$\n",
    "$$5x + 4y + 3z = 12$$\n",
    "\n",
    "We progressively eliminate each variable producing an 'upper triangular matrix'.\n",
    "\n",
    "Coefficient matrix:"
   ]
  },
  {
   "cell_type": "code",
   "execution_count": 404,
   "metadata": {},
   "outputs": [
    {
     "name": "stdout",
     "output_type": "stream",
     "text": [
      "[[ 2  1 -2]\n",
      " [ 3  2  2]\n",
      " [ 5  4  3]]\n"
     ]
    }
   ],
   "source": [
    "import numpy as np\n",
    "co_matrix = np.array([[2,1,-2],\n",
    "            [3,2,2],\n",
    "            [5,4,3]])\n",
    "print(co_matrix)"
   ]
  },
  {
   "cell_type": "markdown",
   "metadata": {},
   "source": [
    "In an upper triangular matrix only values **above** the main diagonal will be non zero. Vice versa for lower triangular matrix.\n",
    "\n",
    "We attain this by row operations performed.\n",
    "\n",
    "The augmented matrix which is a way of representing a system of linear equations with the constants on the right hand side is:"
   ]
  },
  {
   "cell_type": "code",
   "execution_count": 405,
   "metadata": {},
   "outputs": [
    {
     "name": "stdout",
     "output_type": "stream",
     "text": [
      "[[ 2.  1. -2.  1.]\n",
      " [ 3.  2.  2.  7.]\n",
      " [ 5.  4.  3. 12.]]\n"
     ]
    }
   ],
   "source": [
    "A = np.array([[2,1,-2,1],[3,2,2,7],[5,4,3,12]], dtype=float)\n",
    "print(A)"
   ]
  },
  {
   "cell_type": "markdown",
   "metadata": {},
   "source": [
    "Best practice is to want the leading coefficient of the first row to be 1."
   ]
  },
  {
   "cell_type": "code",
   "execution_count": 406,
   "metadata": {},
   "outputs": [
    {
     "name": "stdout",
     "output_type": "stream",
     "text": [
      "[[ 1.   0.5 -1.   0.5]\n",
      " [ 3.   2.   2.   7. ]\n",
      " [ 5.   4.   3.  12. ]]\n"
     ]
    }
   ],
   "source": [
    "A[0] = A[0] / 2\n",
    "print(A)"
   ]
  },
  {
   "cell_type": "markdown",
   "metadata": {},
   "source": [
    "Then we want the first element of any nonzero row to be to the right of the first element in the row above it to get the Augmented matrix to Row echelon form."
   ]
  },
  {
   "cell_type": "code",
   "execution_count": 407,
   "metadata": {},
   "outputs": [
    {
     "name": "stdout",
     "output_type": "stream",
     "text": [
      "[[ 1.   0.5 -1.   0.5]\n",
      " [ 0.  -0.5 -5.  -5.5]\n",
      " [ 5.   4.   3.  12. ]]\n"
     ]
    }
   ],
   "source": [
    "A[1] = 3*A[0] - A[1]\n",
    "print(A)"
   ]
  },
  {
   "cell_type": "code",
   "execution_count": 408,
   "metadata": {},
   "outputs": [
    {
     "name": "stdout",
     "output_type": "stream",
     "text": [
      "[[ 1.   0.5 -1.   0.5]\n",
      " [ 0.  -0.5 -5.  -5.5]\n",
      " [ 0.  -1.5 -8.  -9.5]]\n"
     ]
    }
   ],
   "source": [
    "A[2] = 5*A[0] - A[2]\n",
    "print(A)"
   ]
  },
  {
   "cell_type": "code",
   "execution_count": 409,
   "metadata": {},
   "outputs": [
    {
     "name": "stdout",
     "output_type": "stream",
     "text": [
      "[[ 1.   0.5 -1.   0.5]\n",
      " [-0.   1.  10.  11. ]\n",
      " [ 0.  -1.5 -8.  -9.5]]\n"
     ]
    }
   ],
   "source": [
    "A[1] = -2 * A[1]\n",
    "print(A)"
   ]
  },
  {
   "cell_type": "code",
   "execution_count": 410,
   "metadata": {},
   "outputs": [
    {
     "name": "stdout",
     "output_type": "stream",
     "text": [
      "[[ 1.          0.5        -1.          0.5       ]\n",
      " [-0.          1.         10.         11.        ]\n",
      " [-0.          1.          5.33333333  6.33333333]]\n"
     ]
    }
   ],
   "source": [
    "A[2] = -(2/3) * A[2]\n",
    "print(A)"
   ]
  },
  {
   "cell_type": "code",
   "execution_count": 411,
   "metadata": {},
   "outputs": [
    {
     "name": "stdout",
     "output_type": "stream",
     "text": [
      "[[ 1.          0.5        -1.          0.5       ]\n",
      " [-0.          1.         10.         11.        ]\n",
      " [ 0.          0.          4.66666667  4.66666667]]\n"
     ]
    }
   ],
   "source": [
    "A[2] = A[1] - A[2]\n",
    "print(A)"
   ]
  },
  {
   "cell_type": "code",
   "execution_count": 412,
   "metadata": {},
   "outputs": [
    {
     "name": "stdout",
     "output_type": "stream",
     "text": [
      "[[ 1.   0.5 -1.   0.5]\n",
      " [-0.   1.  10.  11. ]\n",
      " [ 0.   0.   1.   1. ]]\n"
     ]
    }
   ],
   "source": [
    "A[2] = (3/14) * A[2]\n",
    "print(A)"
   ]
  },
  {
   "cell_type": "markdown",
   "metadata": {},
   "source": [
    "This is now in Row echelon form. From backward substitution:\n",
    "$$1z = 1 \\implies z =1$$\n",
    "$$1y + 10z = 11 \\implies 1y +10(1) = 11 \\implies y = 1$$\n",
    "$$1x + 0.5y - 1z = 0.5 \\implies 1x + 0.5 -1 = 0.5 \\implies x = 0.5$$\n",
    "\n",
    "our solution set is [1,1,1].\n",
    "\n",
    "Numpy itself provides np.linalg.solve which performs gaussian elimination."
   ]
  },
  {
   "cell_type": "code",
   "execution_count": 413,
   "metadata": {},
   "outputs": [
    {
     "name": "stdout",
     "output_type": "stream",
     "text": [
      "Solution : [1. 1. 1.]\n"
     ]
    }
   ],
   "source": [
    "a = np.array([[2,1,-2],[3,2,2],[5,4,3]])\n",
    "b = np.array([1,7,12])\n",
    "x = np.linalg.solve(a,b)\n",
    "print(f'Solution : {x}')"
   ]
  },
  {
   "cell_type": "code",
   "execution_count": 414,
   "metadata": {},
   "outputs": [
    {
     "name": "stdout",
     "output_type": "stream",
     "text": [
      "[[6 6]\n",
      " [6 9]]\n"
     ]
    }
   ],
   "source": [
    "## Matrix multiplication\n",
    "\n",
    "A = np.array([[1,2,1],\n",
    "     [2,1,2]])\n",
    "B = np.array([[1,2],\n",
    "              [2,1],\n",
    "              [1,2]])\n",
    "\n",
    "C = A @ B\n",
    "print(C)"
   ]
  },
  {
   "cell_type": "code",
   "execution_count": 415,
   "metadata": {},
   "outputs": [
    {
     "data": {
      "text/plain": [
       "array([[1, 1, 1],\n",
       "       [2, 1, 1],\n",
       "       [2, 2, 1]])"
      ]
     },
     "execution_count": 415,
     "metadata": {},
     "output_type": "execute_result"
    }
   ],
   "source": [
    "A = np.array([[1,2,2],\n",
    "     [1,1,2],\n",
    "     [1,1,1]])\n",
    "B = A.transpose()\n",
    "B"
   ]
  },
  {
   "cell_type": "code",
   "execution_count": 416,
   "metadata": {},
   "outputs": [
    {
     "data": {
      "text/plain": [
       "array([[1., 0., 0., 0., 0., 0.],\n",
       "       [0., 1., 0., 0., 0., 0.],\n",
       "       [0., 0., 1., 0., 0., 0.],\n",
       "       [0., 0., 0., 1., 0., 0.],\n",
       "       [0., 0., 0., 0., 1., 0.],\n",
       "       [0., 0., 0., 0., 0., 1.]])"
      ]
     },
     "execution_count": 416,
     "metadata": {},
     "output_type": "execute_result"
    }
   ],
   "source": [
    "np.identity(6)"
   ]
  },
  {
   "cell_type": "markdown",
   "metadata": {},
   "source": [
    "Identity matrix - A square matrix with 1's across its **principal diaganol** and 0's in other element positions."
   ]
  },
  {
   "cell_type": "code",
   "execution_count": 417,
   "metadata": {},
   "outputs": [
    {
     "data": {
      "text/plain": [
       "array([[1., 0., 0.],\n",
       "       [0., 1., 0.],\n",
       "       [0., 0., 1.]])"
      ]
     },
     "execution_count": 417,
     "metadata": {},
     "output_type": "execute_result"
    }
   ],
   "source": [
    "np.identity(3) * np.identity(3)"
   ]
  },
  {
   "cell_type": "code",
   "execution_count": 418,
   "metadata": {},
   "outputs": [
    {
     "name": "stdout",
     "output_type": "stream",
     "text": [
      "determinant of A is :4.0\n",
      "[[2 4 6]\n",
      " [3 2 1]\n",
      " [4 6 7]]\n",
      "determinant of A Operated is :7.999999999999998\n"
     ]
    }
   ],
   "source": [
    "A = np.array([[1,2,3],\n",
    "            [3,2,1],\n",
    "            [4,6,7]])\n",
    "A_det = np.linalg.det(A)\n",
    "print(f\"determinant of A is :{A_det}\")\n",
    "\n",
    "# multiplying a row by k = 2 changes the value of the determinant k fold\n",
    "A[0] = A[0] * 2\n",
    "print(A)\n",
    "A_det = np.linalg.det(A)\n",
    "print(f\"determinant of A Operated is :{A_det}\")"
   ]
  },
  {
   "cell_type": "code",
   "execution_count": 419,
   "metadata": {},
   "outputs": [
    {
     "name": "stdout",
     "output_type": "stream",
     "text": [
      "[[ 1.     1.    -1.   ]\n",
      " [-2.125 -1.25   2.   ]\n",
      " [ 1.25   0.5   -1.   ]]\n"
     ]
    }
   ],
   "source": [
    "print(np.linalg.inv(A))"
   ]
  },
  {
   "cell_type": "markdown",
   "metadata": {},
   "source": [
    "## Inverse Matrix\n",
    "\n",
    "The inverse of a matrix A, denoted by $A^{-1}$, is defined only if it is a square matrix, in which case the inverse is a matrix that satisfies the condition:$$ A A^{-1} = I$$"
   ]
  },
  {
   "cell_type": "code",
   "execution_count": 420,
   "metadata": {},
   "outputs": [
    {
     "name": "stdout",
     "output_type": "stream",
     "text": [
      "[[2 4 6]\n",
      " [3 2 1]\n",
      " [4 6 7]]\n",
      "[[ 1.00000000e+00  2.22044605e-16 -4.44089210e-16]\n",
      " [ 6.66133815e-16  1.00000000e+00 -6.66133815e-16]\n",
      " [ 1.55431223e-15  3.33066907e-16  1.00000000e+00]]\n"
     ]
    }
   ],
   "source": [
    "print(A)\n",
    "a_inv = np.linalg.inv(A)\n",
    "C = A @ a_inv\n",
    "print(C)"
   ]
  },
  {
   "cell_type": "markdown",
   "metadata": {},
   "source": [
    "This is the identity matrix, as values not on the principle diagonal are extremely small. The reason why these take values and are not zero is due to floating point precision."
   ]
  },
  {
   "cell_type": "markdown",
   "metadata": {},
   "source": [
    "## Iterative Scheme\n",
    "\n",
    "An iterative scheme is the procedure of making a guess obtaining an answer and using that answer for the next attempt.\n",
    "\n",
    "The first method we will code is the Gauss Jacobi Method:\n",
    "\n",
    "The prerequisite for the Gauss Jacobi method is that teh matrix is Diagonally Dominant. Whereby the value along the main diagonal value must be larger in absolute value than the sum of the other elements in the row."
   ]
  },
  {
   "cell_type": "code",
   "execution_count": 421,
   "metadata": {},
   "outputs": [],
   "source": [
    "# Check if matrix is Diagonally Dominant\n",
    "\n",
    "def check_diagonal_dominance(matrix):\n",
    "    for i in range(0, len(matrix)):\n",
    "        row_sum = 0\n",
    "        for j in range(0, matrix.shape[1]):\n",
    "            if i != j:\n",
    "                row_sum += abs(matrix[i,j])\n",
    "        non_prinicipal_sum = row_sum\n",
    "        if abs(matrix[i,i]) <= non_prinicipal_sum:\n",
    "            print(f\"Row {i} fails the diagonal dominance condition\")\n",
    "            return False\n",
    "    return True"
   ]
  },
  {
   "cell_type": "code",
   "execution_count": 422,
   "metadata": {},
   "outputs": [
    {
     "data": {
      "text/plain": [
       "True"
      ]
     },
     "execution_count": 422,
     "metadata": {},
     "output_type": "execute_result"
    }
   ],
   "source": [
    "A = np.array([[2, 1, 0], \n",
    "              [1, 4, 2], \n",
    "              [1, 2, 4]])\n",
    "\n",
    "check_diagonal_dominance(A)"
   ]
  },
  {
   "cell_type": "code",
   "execution_count": 423,
   "metadata": {},
   "outputs": [],
   "source": [
    "def gauss_jacobi(A, b, x0, tol, max_iter):\n",
    "    '''\n",
    "    Solve the system of linear equations Ax = b using the Gauss-Jacobi iteration method\n",
    "\n",
    "    Arguments:\n",
    "    A(ndarray): Coefficient matrix\n",
    "    b(ndarray): Right hand side vector of constants\n",
    "    x0(ndarray): Initial guess for solution\n",
    "    tol(float): Tolerance for convergance\n",
    "    max_iter(int): Maximum number of iterations\n",
    "\n",
    "    Returns:\n",
    "    ndarray: The solution vector x\n",
    "    int: Number of iterations taken\n",
    "    '''\n",
    "    A = A.astype(float)\n",
    "    b = b.astype(float)\n",
    "    x0 = x0.astype(float)\n",
    "\n",
    "    n = len(b)\n",
    "    x = np.copy(x0)\n",
    "    \n",
    "    for k in range(max_iter):\n",
    "        x_new = np.copy(x)\n",
    "\n",
    "        for i in range(n):\n",
    "            sum_non_diagonal = 0\n",
    "            for j in range(n):\n",
    "                if i != j:\n",
    "                    sum_non_diagonal += (A[i,j] * x[j])\n",
    "            x_new[i] = (b[i] - sum_non_diagonal) / (A[i,i])\n",
    "\n",
    "        diff = np.abs(x_new - x)\n",
    "        if np.all(diff < tol):  \n",
    "            print(f'Converged in {k+1} iterations.')\n",
    "            return x_new, k+1\n",
    "        x = np.copy(x_new)\n",
    "\n",
    "    print(f'Did not converge within {max_iter} iterations.')\n",
    "    return x, max_iter"
   ]
  },
  {
   "cell_type": "code",
   "execution_count": 424,
   "metadata": {},
   "outputs": [],
   "source": [
    "# Using the example from lectures whereby\n",
    "# 10x1 - x2 + 2x3     = 6\n",
    "#  -x1 + 11x2 -x3 +3x4 = 25\n",
    "# 2x1 - x2 + 10x3 - x4 = -11\n",
    "#      3x2 - x3 + 8x4 = 15\n",
    "\n",
    "A = np.array([[10,-1,2,0],\n",
    "              [-1, 11, -1, 3],\n",
    "              [2,-1,10,-1],\n",
    "              [0,3,-1,8]])\n",
    "\n",
    "b = np.array([[6],[25],[-11],[15]])\n",
    "\n",
    "tol = 1\n",
    "\n",
    "x0 = np.array([[0],[0],[0],[0]])\n",
    "\n",
    "max_iter = 1000"
   ]
  },
  {
   "cell_type": "markdown",
   "metadata": {},
   "source": [
    "Note we know the true solution set is [1, 2, -1, 1]"
   ]
  },
  {
   "cell_type": "code",
   "execution_count": 425,
   "metadata": {},
   "outputs": [
    {
     "name": "stdout",
     "output_type": "stream",
     "text": [
      "Converged in 24 iterations.\n",
      "Solution: [[ 1.]\n",
      " [ 2.]\n",
      " [-1.]\n",
      " [ 1.]]\n",
      "Iterations: 24\n"
     ]
    }
   ],
   "source": [
    "result, iterations = gauss_jacobi(A, b, x0, 0.00000001, 10000)\n",
    "print(\"Solution:\", result)\n",
    "print(\"Iterations:\", iterations)"
   ]
  },
  {
   "cell_type": "code",
   "execution_count": null,
   "metadata": {},
   "outputs": [],
   "source": []
  }
 ],
 "metadata": {
  "kernelspec": {
   "display_name": "Python 3",
   "language": "python",
   "name": "python3"
  },
  "language_info": {
   "codemirror_mode": {
    "name": "ipython",
    "version": 3
   },
   "file_extension": ".py",
   "mimetype": "text/x-python",
   "name": "python",
   "nbconvert_exporter": "python",
   "pygments_lexer": "ipython3",
   "version": "3.12.4"
  }
 },
 "nbformat": 4,
 "nbformat_minor": 2
}
